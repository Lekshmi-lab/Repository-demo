{
    "nbformat_minor": 1, 
    "cells": [
        {
            "source": "# Identify Residential Neighbourhoods in the city of Chicago\nThis is the Capstone Project - Battle of Neighborhoods\n", 
            "cell_type": "markdown", 
            "metadata": {
                "collapsed": true
            }
        }, 
        {
            "source": "# Introduction/Business Problem\nChicago is one among the biggest cities in the United States.The city is also reported as one among the best big cities to live, with a ranking of 26th out of 62, according to the report by WalletHub, a personal finance website.According to the 2018 global livability index ,Chicago ranks sixth among the top ten best cities to live in the United States.At the same time, there are also concerns regarding the high crime rate in the city,much higher than the US national average. This makes the city an apt choice to explore the residential neighbourhoods,that are suitable for families with children .Given the above background, the purpose of this project is to identify the residential neighborhoods in Chicago city.\n\nThe targent audience is familes with children that are planning to settle in the city of Chicago\n", 
            "cell_type": "markdown", 
            "metadata": {}
        }, 
        {
            "source": "# Data\nWe will start by scraping the Wikipedia page https://en.wikipedia.org/wiki/List_of_neighborhoods_in_Chicago. In this page, the neighbourhpoods are listed according to the community area. Chicago is made up of 77 community areas  and 200 neighbourhoods. We will scrape the data from Wikipedia page https://en.wikipedia.org/wiki/List_of_neighborhoods_in_Chicago. This will be converted into a data frame. The data frame will consist of two columns, 'community area\" and 'neighbourhood\".After cleaning the data ,Then we will find the latitude and longitude of each neighbourhood using geopy library.Foursquare API is used to explore the neighbourhood venue categories.We will get the most common venue categories  in each neighborhood, and then use this feature to group the neighborhoods into clusters.The socio economic data of Chicago collected from the Chicago Data Portal is also used here to segment the venue categories for identifying the best residential neighbourhoods apt for families and children.\n", 
            "cell_type": "markdown", 
            "metadata": {}
        }, 
        {
            "execution_count": null, 
            "cell_type": "code", 
            "metadata": {}, 
            "outputs": [], 
            "source": ""
        }
    ], 
    "metadata": {
        "kernelspec": {
            "display_name": "Python 3.6", 
            "name": "python3", 
            "language": "python"
        }, 
        "language_info": {
            "mimetype": "text/x-python", 
            "nbconvert_exporter": "python", 
            "version": "3.6.8", 
            "name": "python", 
            "file_extension": ".py", 
            "pygments_lexer": "ipython3", 
            "codemirror_mode": {
                "version": 3, 
                "name": "ipython"
            }
        }
    }, 
    "nbformat": 4
}