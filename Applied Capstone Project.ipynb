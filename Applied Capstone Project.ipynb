{
    "nbformat_minor": 1, 
    "cells": [
        {
            "source": "# Identify Residential Neighbourhoods in the city of Chicago\n\nThis is the Capstone Project - Battle of Neighborhoods\n\n\n\n# Introduction/Business Problem\n\nChicago is  one among the biggest cities in the United States.The city is also reported as one among the best big cities to live, with a  ranking of 26th out of 62, according to the report by WalletHub, a personal finance website.According to the  2018 global livability index ,Chicago ranks sixth among the top ten best cities to live in the United States.At the same time, there are also concerns regarding the high crime rate in the city,much higher than the US national average. This makes  the city an apt choice to explore the residential neighbourhoods,that are suitable for families with children .\n\nGiven the above background, the purpose of this project is to identify the  residential neighborhoods in Chicago city.The targent audience is familes with children  that are planning to settle in the city of Chicago. \n\n\n\n", 
            "cell_type": "markdown", 
            "metadata": {
                "collapsed": true
            }
        }, 
        {
            "source": "# Data ", 
            "cell_type": "markdown", 
            "metadata": {}
        }, 
        {
            "source": "The data set exists free on the website https://data.cityofchicago.org/Facilities-Geographic-Boundaries/Chicago-Zip-Code-and-Neighborhood-Map/mapn-ahfc. The data is donwloaded in a server and  wget command is used to access the data.Then we will find the latitude and longitude of each neighbourhood uding geopy library.Foursquare API is used to explore the neighbourhood venue categories.We will get the most common venue categories in each neighborhood, and then use this feature to group the neighborhoods into clusters.The socio economic data of Chicago collected from the Chicago Data Portal is also used here to  segment the venue categories for identifying the best residential neighbourhoods apt for families and children.", 
            "cell_type": "markdown", 
            "metadata": {}
        }, 
        {
            "execution_count": null, 
            "cell_type": "code", 
            "metadata": {}, 
            "outputs": [], 
            "source": ""
        }
    ], 
    "metadata": {
        "kernelspec": {
            "display_name": "Python 3.6", 
            "name": "python3", 
            "language": "python"
        }, 
        "language_info": {
            "mimetype": "text/x-python", 
            "nbconvert_exporter": "python", 
            "version": "3.6.8", 
            "name": "python", 
            "file_extension": ".py", 
            "pygments_lexer": "ipython3", 
            "codemirror_mode": {
                "version": 3, 
                "name": "ipython"
            }
        }
    }, 
    "nbformat": 4
}